{
 "cells": [
  {
   "cell_type": "code",
   "execution_count": 1,
   "id": "146f1f84",
   "metadata": {},
   "outputs": [],
   "source": [
    "#Importando as bibliotecas \n",
    "import numpy as np\n",
    "import pandas as pd\n",
    "import matplotlib.pyplot as plt"
   ]
  },
  {
   "cell_type": "code",
   "execution_count": 3,
   "id": "bec120e0",
   "metadata": {},
   "outputs": [],
   "source": [
    "#Configurando o tamanho da figura \n",
    "from matplotlib.pylab import rcParams\n",
    "rcParams[\"figure.figsize\"] = 15,6"
   ]
  },
  {
   "cell_type": "markdown",
   "id": "b0045b8f",
   "metadata": {},
   "source": [
    "# Análise e Tratamento Inicial"
   ]
  },
  {
   "cell_type": "code",
   "execution_count": null,
   "id": "cfc5baac",
   "metadata": {},
   "outputs": [],
   "source": [
    "covid = pd.read_csv()"
   ]
  }
 ],
 "metadata": {
  "kernelspec": {
   "display_name": "Python 3 (ipykernel)",
   "language": "python",
   "name": "python3"
  },
  "language_info": {
   "codemirror_mode": {
    "name": "ipython",
    "version": 3
   },
   "file_extension": ".py",
   "mimetype": "text/x-python",
   "name": "python",
   "nbconvert_exporter": "python",
   "pygments_lexer": "ipython3",
   "version": "3.11.4"
  }
 },
 "nbformat": 4,
 "nbformat_minor": 5
}
